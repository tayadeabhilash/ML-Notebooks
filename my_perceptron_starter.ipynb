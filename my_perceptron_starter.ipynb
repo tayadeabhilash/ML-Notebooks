{
  "nbformat": 4,
  "nbformat_minor": 0,
  "metadata": {
    "colab": {
      "provenance": [],
      "include_colab_link": true
    },
    "kernelspec": {
      "name": "python3",
      "display_name": "Python 3"
    },
    "language_info": {
      "name": "python"
    }
  },
  "cells": [
    {
      "cell_type": "markdown",
      "metadata": {
        "id": "view-in-github",
        "colab_type": "text"
      },
      "source": [
        "<a href=\"https://colab.research.google.com/github/tayadeabhilash/ML-Notebooks/blob/main/my_perceptron_starter.ipynb\" target=\"_parent\"><img src=\"https://colab.research.google.com/assets/colab-badge.svg\" alt=\"Open In Colab\"/></a>"
      ]
    },
    {
      "cell_type": "code",
      "execution_count": null,
      "metadata": {
        "id": "k4q_iSzpPAqa"
      },
      "outputs": [],
      "source": [
        "# Starter code for implementing perceptron as a Scikit-Learn Estimator\n",
        "# Reference: https://scikit-learn.org/stable/developers/develop.html\n",
        "import numpy as np\n",
        "from sklearn.base import BaseEstimator, ClassifierMixin\n",
        "from sklearn.utils.validation import check_X_y, check_array, check_is_fitted\n",
        "from sklearn.utils.multiclass import unique_labels\n",
        "from sklearn.metrics import euclidean_distances\n",
        "class MyPerceptron(BaseEstimator, ClassifierMixin):\n",
        "    def __init__(self, max_iter=100):\n",
        "        self.max_iter = max_iter\n",
        "        self.w_ = []\n",
        "    def fit(self, X, y):\n",
        "        # Check that X and y have correct shape\n",
        "        X, y = check_X_y(X, y)\n",
        "        # Store the classes seen during fit\n",
        "        self.classes_ = unique_labels(y)\n",
        "        self.X_ = X\n",
        "        self.y_ = y\n",
        "        # Return the classifier\n",
        "        self.w_ = self._perceptron_learning(X, y)\n",
        "        return self\n",
        "    def predict(self, X):\n",
        "        # Check if fit has been called\n",
        "        check_is_fitted(self)\n",
        "        # Input validation\n",
        "        X = check_array(X)\n",
        "        y = []\n",
        "        for x in X :\n",
        "          result = MyPerceptron._classify(x, self.w_)\n",
        "          y.append(result)\n",
        "        return y\n",
        "    @staticmethod\n",
        "    def _classify(x, w):\n",
        "        y = np.dot(w, np.insert(x,0,1).transpose())\n",
        "        target = 1.0 if (y > 0) else 0.0\n",
        "        return target\n",
        "\n",
        "    def _perceptron_learning(self, X, y):\n",
        "        w = np.zeros(shape=(1, X.shape[1]+1))\n",
        "        #\n",
        "        # [TODO] add perceptron learning implementation here\n",
        "        #\n",
        "        return w\n"
      ]
    },
    {
      "cell_type": "markdown",
      "source": [
        "Driver code to use MyPerceptron and test its performance."
      ],
      "metadata": {
        "id": "R7ssOgw5VrYC"
      }
    },
    {
      "cell_type": "code",
      "source": [
        "from google.colab import drive\n",
        "import pandas as pd\n",
        "\n",
        "SETOSA_URL_ = \"/content/drive/My Drive/CMPE257-Shared/iris-setosa-labels.csv\"\n",
        "drive.mount('/content/drive',force_remount=True)\n",
        "data = pd.read_csv(SETOSA_URL_, header = None)\n",
        "print(data.shape)\n",
        "\n",
        "from sklearn.model_selection import train_test_split\n",
        "\n",
        "setosa_data = data.drop(data.columns[4], axis=1)\n",
        "print(setosa_data.shape)\n",
        "print(setosa_data)\n",
        "\n",
        "setosa_labels = data[data.columns[4]]\n",
        "print(setosa_labels.shape)\n",
        "print(setosa_labels)\n",
        "\n",
        "train_data, test_data, train_labels, test_labels = train_test_split(setosa_data, setosa_labels, random_state=1)\n",
        "\n",
        "print(train_data.shape)\n",
        "print(train_labels.shape)\n",
        "\n",
        "from sklearn.metrics import accuracy_score\n",
        "\n",
        "perceptron = MyPerceptron()\n",
        "perceptron.fit(train_data, train_labels)\n",
        "\n",
        "\n",
        "train_predicts = perceptron.predict(train_data)\n",
        "train_score = accuracy_score(train_predicts, train_labels)\n",
        "print(\"train accuracy: \", train_score)\n",
        "\n",
        "test_predicts = perceptron.predict(test_data)\n",
        "test_score = accuracy_score(test_predicts, test_labels)\n",
        "print(\"test accuracy: \", test_score)\n"
      ],
      "metadata": {
        "colab": {
          "base_uri": "https://localhost:8080/"
        },
        "id": "ej0nBZHYVzJz",
        "outputId": "d4eea8fb-645c-4cb2-863c-2755c2606201"
      },
      "execution_count": null,
      "outputs": [
        {
          "output_type": "stream",
          "name": "stdout",
          "text": [
            "Mounted at /content/drive\n",
            "(100, 5)\n",
            "(100, 4)\n",
            "      0    1    2    3\n",
            "0   5.1  3.5  1.4  0.2\n",
            "1   4.9  3.0  1.4  0.2\n",
            "2   4.7  3.2  1.3  0.2\n",
            "3   4.6  3.1  1.5  0.2\n",
            "4   5.0  3.6  1.4  0.2\n",
            "..  ...  ...  ...  ...\n",
            "95  5.7  3.0  4.2  1.2\n",
            "96  5.7  2.9  4.2  1.3\n",
            "97  6.2  2.9  4.3  1.3\n",
            "98  5.1  2.5  3.0  1.1\n",
            "99  5.7  2.8  4.1  1.3\n",
            "\n",
            "[100 rows x 4 columns]\n",
            "(100,)\n",
            "0     1\n",
            "1     1\n",
            "2     1\n",
            "3     1\n",
            "4     1\n",
            "     ..\n",
            "95    0\n",
            "96    0\n",
            "97    0\n",
            "98    0\n",
            "99    0\n",
            "Name: 4, Length: 100, dtype: int64\n",
            "(75, 4)\n",
            "(75,)\n",
            "train accuracy:  0.4666666666666667\n",
            "test accuracy:  0.6\n"
          ]
        }
      ]
    }
  ]
}